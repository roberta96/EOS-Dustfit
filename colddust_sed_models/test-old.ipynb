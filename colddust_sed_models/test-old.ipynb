{
 "cells": [
  {
   "cell_type": "code",
   "execution_count": 4,
   "id": "164bc7dd",
   "metadata": {},
   "outputs": [],
   "source": [
    "import numpy as np\n",
    "import matplotlib.pyplot as plt\n",
    "\n",
    "import sed_models \n",
    "import results_plot \n",
    "\n",
    "from IPython.display import display, Math\n"
   ]
  },
  {
   "cell_type": "code",
   "execution_count": null,
   "id": "cb71379e",
   "metadata": {},
   "outputs": [],
   "source": [
    "z = 6.522\n",
    "D_l = 64929500 #kpc\n",
    "scale = 5.564 #kpc/\"\n",
    "c = 299792458 #m/s\n",
    "\n",
    "A = np.array([0.350*0.327])*np.pi*scale**2/4 #kpc^2\n",
    "A = np.mean(A)\n",
    "\n",
    "nu_obs =  np.array([95.33111,245.6728]) #rest frame frequency, GHz\n",
    "nu = nu_obs*(1+z)\n",
    "wave_obs = c*1e6/(nu_obs*1e9) #micrometri\n",
    "\n",
    "flux = np.array([0.094,2.034]) #mJy \n",
    "err1 = np.array([0.016,0.054]) \n",
    "quad1 = np.array([0.02,0.07])\n",
    "flux_err = np.sqrt(err1**2+(flux*quad1)**2)\n",
    "Msun = 1.99e30 #kg\n",
    "\n",
    "fix_par = 40 #K\n",
    "\n",
    "start_pos = [8.,1.5]\n",
    "\n",
    "ndim = 2 \n",
    "sampler = sed_models.run_chain(start_pos, ndim,'j0224-chain-T40.h5',nu_obs,flux,flux_err,z,D_l,A,fix_par)\n",
    "print('Chain done')"
   ]
  },
  {
   "cell_type": "code",
   "execution_count": 5,
   "id": "6406e919",
   "metadata": {},
   "outputs": [
    {
     "data": {
      "text/latex": [
       "$\\displaystyle \\mathrm{\\log(M_{dust}/M_\\odot)} = 8.328_{-0.189}^{+0.158}$"
      ],
      "text/plain": [
       "<IPython.core.display.Math object>"
      ]
     },
     "metadata": {},
     "output_type": "display_data"
    },
    {
     "data": {
      "text/latex": [
       "$\\displaystyle \\mathrm{\\beta} = 2.105_{-0.201}^{+0.235}$"
      ],
      "text/plain": [
       "<IPython.core.display.Math object>"
      ]
     },
     "metadata": {},
     "output_type": "display_data"
    },
    {
     "name": "stdout",
     "output_type": "stream",
     "text": [
      "M_dust/M_sun = 2.13E+08 - 9.24E+07 + 7.76E+07\n"
     ]
    }
   ],
   "source": [
    "popt, q, mdust = results_plot.sed_results(sampler, ndim, dis=250)\n",
    "\n",
    "label_new = [\"\\log(M_{dust}/M_\\odot)\", r\"\\beta\"]\n",
    "j = 0\n",
    "for i in range(ndim):\n",
    "    txt = \"\\mathrm{{{3}}} = {0:.3f}_{{-{1:.3f}}}^{{+{2:.3f}}}\"\n",
    "    txt2 = txt.format(popt[i], q[j], q[j+1], label_new[i])\n",
    "    display(Math(txt2))\n",
    "    j = j+2\n",
    "\n",
    "print('M_dust/M_sun = %.2E - %.2E + %.2E' %(mdust[0], mdust[1], mdust[2]))"
   ]
  },
  {
   "cell_type": "code",
   "execution_count": null,
   "id": "9cb5b220",
   "metadata": {},
   "outputs": [],
   "source": []
  }
 ],
 "metadata": {
  "kernelspec": {
   "display_name": "Python 3",
   "language": "python",
   "name": "python3"
  },
  "language_info": {
   "codemirror_mode": {
    "name": "ipython",
    "version": 3
   },
   "file_extension": ".py",
   "mimetype": "text/x-python",
   "name": "python",
   "nbconvert_exporter": "python",
   "pygments_lexer": "ipython3",
   "version": "3.8.8"
  }
 },
 "nbformat": 4,
 "nbformat_minor": 5
}
